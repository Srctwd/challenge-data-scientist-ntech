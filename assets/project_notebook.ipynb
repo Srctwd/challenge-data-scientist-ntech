{
 "cells": [
  {
   "cell_type": "code",
   "execution_count": 3,
   "id": "23b4d81b",
   "metadata": {},
   "outputs": [],
   "source": [
    "import requests"
   ]
  },
  {
   "cell_type": "code",
   "execution_count": 11,
   "id": "6fe5bbc6",
   "metadata": {},
   "outputs": [
    {
     "data": {
      "text/plain": [
       "'[\"Hello performance\"]'"
      ]
     },
     "execution_count": 11,
     "metadata": {},
     "output_type": "execute_result"
    }
   ],
   "source": [
    "requests.get(url=\"http://0.0.0.0:8001/v1/performance\").text"
   ]
  },
  {
   "cell_type": "code",
   "execution_count": 13,
   "id": "1b5a842b",
   "metadata": {},
   "outputs": [
    {
     "data": {
      "text/plain": [
       "'[\"Hello aderencia\"]'"
      ]
     },
     "execution_count": 13,
     "metadata": {},
     "output_type": "execute_result"
    }
   ],
   "source": [
    "requests.get(url=\"http://0.0.0.0:8001/v1/aderencia\").text"
   ]
  },
  {
   "cell_type": "code",
   "execution_count": null,
   "id": "3d18f6aa",
   "metadata": {},
   "outputs": [],
   "source": []
  }
 ],
 "metadata": {
  "kernelspec": {
   "display_name": "Python 3 (ipykernel)",
   "language": "python",
   "name": "python3"
  },
  "language_info": {
   "codemirror_mode": {
    "name": "ipython",
    "version": 3
   },
   "file_extension": ".py",
   "mimetype": "text/x-python",
   "name": "python",
   "nbconvert_exporter": "python",
   "pygments_lexer": "ipython3",
   "version": "3.11.2"
  }
 },
 "nbformat": 4,
 "nbformat_minor": 5
}
