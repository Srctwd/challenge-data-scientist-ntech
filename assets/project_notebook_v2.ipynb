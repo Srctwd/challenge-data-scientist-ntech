{
 "cells": [
  {
   "cell_type": "code",
   "execution_count": 133,
   "id": "23b4d81b",
   "metadata": {},
   "outputs": [],
   "source": [
    "import requests"
   ]
  },
  {
   "cell_type": "code",
   "execution_count": 184,
   "id": "aab8dfcf",
   "metadata": {},
   "outputs": [
    {
     "name": "stdout",
     "output_type": "stream",
     "text": [
      "{\n",
      "\"records\": [{\"VAR3\": 4},{\"VAR1\":3}]\n",
      "}\n",
      "\n"
     ]
    }
   ],
   "source": [
    "f = open(\"test.json\")\n",
    "request = f.read()\n",
    "print(request)"
   ]
  },
  {
   "cell_type": "code",
   "execution_count": 185,
   "id": "6fe5bbc6",
   "metadata": {},
   "outputs": [
    {
     "data": {
      "text/plain": [
       "'{\"records\":[{\"VAR1\":null,\"VAR2\":null,\"VAR3\":4.0,\"REF_DATE\":null},{\"VAR1\":3,\"VAR2\":null,\"VAR3\":null,\"REF_DATE\":null}]}'"
      ]
     },
     "execution_count": 185,
     "metadata": {},
     "output_type": "execute_result"
    }
   ],
   "source": [
    "requests.post(url=\"http://0.0.0.0:8001/v1/performance\", data = request).text"
   ]
  },
  {
   "cell_type": "code",
   "execution_count": 183,
   "id": "1b5a842b",
   "metadata": {},
   "outputs": [
    {
     "data": {
      "text/plain": [
       "'[\"Hello aderencia\"]'"
      ]
     },
     "execution_count": 183,
     "metadata": {},
     "output_type": "execute_result"
    }
   ],
   "source": [
    "requests.get(url=\"http://0.0.0.0:8001/v1/aderencia\").text"
   ]
  },
  {
   "cell_type": "code",
   "execution_count": null,
   "id": "44fb5564",
   "metadata": {},
   "outputs": [],
   "source": []
  }
 ],
 "metadata": {
  "kernelspec": {
   "display_name": "Python 3 (ipykernel)",
   "language": "python",
   "name": "python3"
  },
  "language_info": {
   "codemirror_mode": {
    "name": "ipython",
    "version": 3
   },
   "file_extension": ".py",
   "mimetype": "text/x-python",
   "name": "python",
   "nbconvert_exporter": "python",
   "pygments_lexer": "ipython3",
   "version": "3.11.2"
  }
 },
 "nbformat": 4,
 "nbformat_minor": 5
}
